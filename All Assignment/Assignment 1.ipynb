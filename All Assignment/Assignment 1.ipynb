{
 "cells": [
  {
   "cell_type": "code",
   "execution_count": 3,
   "metadata": {},
   "outputs": [
    {
     "name": "stdout",
     "output_type": "stream",
     "text": [
      "3.6\n",
      "I am using python : 3.6\n"
     ]
    }
   ],
   "source": [
    "#problem 2\n",
    "version=input()\n",
    "print('I am using python :',version)"
   ]
  },
  {
   "cell_type": "code",
   "execution_count": 9,
   "metadata": {},
   "outputs": [
    {
     "name": "stdout",
     "output_type": "stream",
     "text": [
      "current date and time \n",
      "2019/12/21  17:47:53\n"
     ]
    }
   ],
   "source": [
    "#problem 3\n",
    "import datetime\n",
    "now = datetime.datetime.now()\n",
    "print('current date and time ')\n",
    "print(now.strftime('%Y/%m/%d  %H:%M:%S'))\n"
   ]
  },
  {
   "cell_type": "code",
   "execution_count": 10,
   "metadata": {},
   "outputs": [
    {
     "name": "stdout",
     "output_type": "stream",
     "text": [
      "input the radius of the circle :35\n",
      "the area of the circle with radius 35.0 is : 3848.4510006474966\n"
     ]
    }
   ],
   "source": [
    "#problem 4\n",
    "import math\n",
    "r=float(input('input the radius of the circle :'))\n",
    "print('the area of the circle with radius',r, 'is :',math.pi*r**2)"
   ]
  },
  {
   "cell_type": "code",
   "execution_count": 11,
   "metadata": {},
   "outputs": [
    {
     "name": "stdout",
     "output_type": "stream",
     "text": [
      "Enter your First Name :fahad\n",
      "Enter your Last Name  :ahmed\n",
      "Hello fahad ahmed\n"
     ]
    }
   ],
   "source": [
    "#problem 5\n",
    "fname=input('Enter your First Name :')\n",
    "lname=input('Enter your Last Name  :')\n",
    "print('Hello',fname ,lname)\n"
   ]
  },
  {
   "cell_type": "code",
   "execution_count": 12,
   "metadata": {},
   "outputs": [
    {
     "name": "stdout",
     "output_type": "stream",
     "text": [
      "enter :3.5\n",
      "enter :7.5\n",
      "11.0\n"
     ]
    }
   ],
   "source": [
    "#problem 6\n",
    "x=float(input('enter :'))\n",
    "y=float(input('enter :'))\n",
    "z=x+y\n",
    "print(z)"
   ]
  }
 ],
 "metadata": {
  "kernelspec": {
   "display_name": "Python 3",
   "language": "python",
   "name": "python3"
  },
  "language_info": {
   "codemirror_mode": {
    "name": "ipython",
    "version": 3
   },
   "file_extension": ".py",
   "mimetype": "text/x-python",
   "name": "python",
   "nbconvert_exporter": "python",
   "pygments_lexer": "ipython3",
   "version": "3.7.4"
  }
 },
 "nbformat": 4,
 "nbformat_minor": 2
}
