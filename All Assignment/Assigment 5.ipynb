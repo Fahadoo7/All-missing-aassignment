{
 "cells": [
  {
   "cell_type": "code",
   "execution_count": 1,
   "metadata": {},
   "outputs": [
    {
     "data": {
      "text/plain": [
       "24"
      ]
     },
     "execution_count": 1,
     "metadata": {},
     "output_type": "execute_result"
    }
   ],
   "source": [
    "#problem 1\n",
    "def factorial(n):\n",
    "    if n<1:\n",
    "        print(1)\n",
    "    else:\n",
    "        import math\n",
    "        x=math.factorial(n)\n",
    "        return x\n",
    "factorial(4)"
   ]
  },
  {
   "cell_type": "code",
   "execution_count": 9,
   "metadata": {},
   "outputs": [
    {
     "name": "stdout",
     "output_type": "stream",
     "text": [
      "the even number are : [2, 4, 6]\n"
     ]
    }
   ],
   "source": [
    "#problem 3\n",
    "def func(*x):\n",
    "    lst=[]\n",
    "    for i in x:\n",
    "        if i%2==0:\n",
    "            lst.append(i)\n",
    "    print('the even number are :', lst)\n",
    "func(1,2,3,4,5,6)"
   ]
  },
  {
   "cell_type": "code",
   "execution_count": 11,
   "metadata": {},
   "outputs": [
    {
     "data": {
      "text/plain": [
       "False"
      ]
     },
     "execution_count": 11,
     "metadata": {},
     "output_type": "execute_result"
    }
   ],
   "source": [
    "#problem 4\n",
    "def plindrome(n):\n",
    "    if n==n[::-1]:\n",
    "        return True\n",
    "    else:\n",
    "        return False\n",
    "plindrome(\"554\")"
   ]
  },
  {
   "cell_type": "code",
   "execution_count": 14,
   "metadata": {},
   "outputs": [
    {
     "name": "stdout",
     "output_type": "stream",
     "text": [
      "('soap', 'clothes', 'cooking oil')\n"
     ]
    }
   ],
   "source": [
    "#problem 6\n",
    "def shopinglist(*z):\n",
    "    print(z)\n",
    "shopinglist('soap','clothes','cooking oil')"
   ]
  }
 ],
 "metadata": {
  "kernelspec": {
   "display_name": "Python 3",
   "language": "python",
   "name": "python3"
  },
  "language_info": {
   "codemirror_mode": {
    "name": "ipython",
    "version": 3
   },
   "file_extension": ".py",
   "mimetype": "text/x-python",
   "name": "python",
   "nbconvert_exporter": "python",
   "pygments_lexer": "ipython3",
   "version": "3.7.4"
  }
 },
 "nbformat": 4,
 "nbformat_minor": 2
}
